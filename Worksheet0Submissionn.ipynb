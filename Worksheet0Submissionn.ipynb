{
  "nbformat": 4,
  "nbformat_minor": 0,
  "metadata": {
    "colab": {
      "provenance": []
    },
    "kernelspec": {
      "name": "python3",
      "display_name": "Python 3"
    },
    "language_info": {
      "name": "python"
    }
  },
  "cells": [
    {
      "cell_type": "markdown",
      "source": [
        "Part1"
      ],
      "metadata": {
        "id": "2_-mSF4dM1lx"
      }
    },
    {
      "cell_type": "code",
      "execution_count": null,
      "metadata": {
        "colab": {
          "base_uri": "https://localhost:8080/"
        },
        "id": "f8woeU69Mv24",
        "outputId": "7d502c80-9163-4c04-e5cf-9ab6992bdb4b"
      },
      "outputs": [
        {
          "output_type": "stream",
          "name": "stdout",
          "text": [
            "Cold temperatures: [8.2, 7.9, 9.0, 8.5, 7.7, 8.4, 9.5, 8.1, 7.6, 8.0, 7.8, 8.7, 9.2, 8.3, 8.9, 7.8]\n",
            "Mild temperatures: [14.1, 13.5, 13.0, 12.9, 13.3, 14.0, 13.4, 14.2, 12.8, 13.7, 13.6, 13.8, 13.9, 12.7, 13.1, 12.5]\n",
            "Comfortable temperatures: [17.4, 18.0, 17.8, 16.5, 17.2, 16.7, 18.3, 17.9, 17.0, 16.8, 17.5, 17.1, 18.1, 16.4, 18.2, 16.6]\n",
            "\n",
            "Number of times it was cold: 16\n",
            "Number of times it was mild: 16\n",
            "Number of times it was comfortable: 16\n",
            "\n",
            "Temperatures in Fahrenheit: [46.76, 63.32, 57.379999999999995, 46.22, 64.4, 56.3, 48.2, 64.04, 55.4, 47.3, 61.7, 55.22, 45.86, 62.959999999999994, 55.94, 47.120000000000005, 62.059999999999995, 57.2, 49.1, 64.94, 56.120000000000005, 46.58, 64.22, 57.56, 45.68, 62.6, 55.04, 46.4, 62.24, 56.66, 46.04, 63.5, 56.48, 47.66, 62.78, 56.84, 48.56, 64.58, 57.02, 46.94, 61.519999999999996, 54.86, 48.02, 64.75999999999999, 55.58, 46.04, 61.88, 54.5]\n",
            "\n",
            "Night temperatures: [8.2, 17.4, 14.1, 7.9, 18.0, 13.5, 9.0, 17.8]\n",
            "Day temperatures: [13.0, 8.5, 16.5, 12.9, 7.7, 17.2, 13.3, 8.4]\n",
            "Evening temperatures: [16.7, 14.0, 9.5, 18.3, 13.4, 8.1, 17.9, 14.2, 7.6, 17.0, 12.8, 8.0, 16.8, 13.7, 7.8, 17.5, 13.6, 8.7, 17.1, 13.8, 9.2, 18.1, 13.9, 8.3, 16.4, 12.7, 8.9, 18.2, 13.1, 7.8, 16.6, 12.5]\n",
            "Average day-time temperature: 12.19\n"
          ]
        }
      ],
      "source": [
        "# Task 1: Classify Temperatures\n",
        "temps = [8.2, 17.4, 14.1, 7.9, 18.0, 13.5, 9.0, 17.8, 13.0, 8.5,\n",
        "16.5, 12.9, 7.7, 17.2, 13.3, 8.4, 16.7, 14.0, 9.5, 18.3, 13.4, 8.1,\n",
        "17.9, 14.2, 7.6, 17.0, 12.8, 8.0, 16.8, 13.7, 7.8, 17.5, 13.6, 8.7,\n",
        "17.1, 13.8, 9.2, 18.1, 13.9, 8.3, 16.4, 12.7, 8.9, 18.2, 13.1, 7.8,\n",
        "16.6, 12.5]\n",
        "\n",
        "cold_temps = []\n",
        "mild_temps = []\n",
        "comfy_temps = []\n",
        "\n",
        "for temp in temps:\n",
        "    if temp < 10:\n",
        "        cold_temps.append(temp)\n",
        "    elif 10 <= temp <= 15:\n",
        "        mild_temps.append(temp)\n",
        "    elif 15 < temp <= 20:\n",
        "        comfy_temps.append(temp)\n",
        "\n",
        "print(\"Cold temperatures:\", cold_temps)\n",
        "print(\"Mild temperatures:\", mild_temps)\n",
        "print(\"Comfortable temperatures:\", comfy_temps)\n",
        "print()\n",
        "\n",
        "# Task 2: Count Occurrences of the temprature\n",
        "num_cold = len(cold_temps)\n",
        "num_mild = len(mild_temps)\n",
        "num_comfy = len(comfy_temps)\n",
        "\n",
        "print(\"Number of times it was cold:\", num_cold)\n",
        "print(\"Number of times it was mild:\", num_mild)\n",
        "print(\"Number of times it was comfortable:\", num_comfy)\n",
        "print()\n",
        "\n",
        "# Task 3: Convert from celsius to Fahrenheit\n",
        "temps_f = []\n",
        "\n",
        "for temp in temps:\n",
        "    temps_f.append((temp * 9 / 5) + 32)\n",
        "\n",
        "print(\"Temperatures in Fahrenheit:\", temps_f)\n",
        "print()\n",
        "\n",
        "# Task 4: Analyze Temperature Patterns by time of day\n",
        "night = []\n",
        "day = []\n",
        "evening = []\n",
        "\n",
        "for i, temp in enumerate(temps):\n",
        "    if 0 <= i < 8:\n",
        "        night.append(temp)\n",
        "    elif 8 <= i < 16:\n",
        "        day.append(temp)\n",
        "    else:\n",
        "        evening.append(temp)\n",
        "\n",
        "avg_tempr = sum(day) / len(day)\n",
        "\n",
        "print(\"Night temperatures:\", night)\n",
        "print(\"Day temperatures:\", day)\n",
        "print(\"Evening temperatures:\", evening)\n",
        "print(\"Average day-time temperature:\", round(avg_tempr, 2))\n"
      ]
    },
    {
      "cell_type": "markdown",
      "source": [
        "Part2 Task1"
      ],
      "metadata": {
        "id": "89WSvuMMKkvM"
      }
    },
    {
      "cell_type": "code",
      "source": [
        "def sum_nested_list(nested_list):\n",
        "    total = 0\n",
        "    for element in nested_list:\n",
        "        if isinstance(element, list):\n",
        "            total += sum_nested_list(element)\n",
        "        else:\n",
        "            total += element\n",
        "    return total\n",
        "nested_list = [1, [2, [3, 4], 5], 6, [7, 8]]\n",
        "result = sum_nested_list(nested_list)\n",
        "print(\"The total sum is:\", result)\n"
      ],
      "metadata": {
        "colab": {
          "base_uri": "https://localhost:8080/"
        },
        "id": "h7bWTG5JKmxv",
        "outputId": "a7248016-199a-461e-80ea-e22b4a1cb218"
      },
      "execution_count": 1,
      "outputs": [
        {
          "output_type": "stream",
          "name": "stdout",
          "text": [
            "The total sum is: 36\n"
          ]
        }
      ]
    },
    {
      "cell_type": "markdown",
      "source": [
        "Part2 Task2"
      ],
      "metadata": {
        "id": "X5i68jcRK9it"
      }
    },
    {
      "cell_type": "code",
      "source": [
        "def generate_permutations(string):\n",
        "    if len(string) == 1:\n",
        "        return [string]\n",
        "    unique_permutations = set()\n",
        "\n",
        "    for index, character in enumerate(string):\n",
        "        remaining_string = string[:index] + string[index+1:]\n",
        "        for sub_permutation in generate_permutations(remaining_string):\n",
        "            unique_permutations.add(character + sub_permutation)\n",
        "    return list(unique_permutations)\n",
        "\n",
        "print( generate_permutations(\"abc\"))\n",
        "print( generate_permutations(\"aab\"))\n",
        "\n"
      ],
      "metadata": {
        "colab": {
          "base_uri": "https://localhost:8080/"
        },
        "id": "mugjd5-FLAea",
        "outputId": "eb9b2ee8-e3cf-4a8b-8893-b226357d3676"
      },
      "execution_count": 3,
      "outputs": [
        {
          "output_type": "stream",
          "name": "stdout",
          "text": [
            "['acb', 'bca', 'cba', 'abc', 'bac', 'cab']\n",
            "['aba', 'baa', 'aab']\n"
          ]
        }
      ]
    },
    {
      "cell_type": "markdown",
      "source": [
        "Part2 Task3"
      ],
      "metadata": {
        "id": "z9EkG-1nNHpe"
      }
    },
    {
      "cell_type": "code",
      "source": [
        "def calculate_directory_size(directory):\n",
        "    total_size = 0\n",
        "    for name, value in directory.items():\n",
        "        if isinstance(value, dict):\n",
        "            total_size += calculate_directory_size(value)\n",
        "        else:\n",
        "            total_size += value\n",
        "    return total_size\n",
        "directory = {\n",
        "    \"file1.txt\": 200,\n",
        "    \"file2.txt\": 300,\n",
        "    \"folder1\": {\n",
        "        \"file3.txt\": 400,\n",
        "        \"file4.txt\": 100,\n",
        "        \"subfolder1\": {\n",
        "            \"file5.txt\": 250,\n",
        "        },\n",
        "    },\n",
        "    \"folder2\": {\n",
        "        \"file6.txt\": 150,\n",
        "    },\n",
        "}\n",
        "\n",
        "# Testing the function\n",
        "total_size = calculate_directory_size(directory)\n",
        "print(\"Total directory size:\", total_size, \"KB\")\n"
      ],
      "metadata": {
        "colab": {
          "base_uri": "https://localhost:8080/"
        },
        "id": "huW6ln-6NJgH",
        "outputId": "ddcaa296-e6a1-4a3f-8e99-f4f814510009"
      },
      "execution_count": 6,
      "outputs": [
        {
          "output_type": "stream",
          "name": "stdout",
          "text": [
            "Total directory size: 1400 KB\n"
          ]
        }
      ]
    },
    {
      "cell_type": "markdown",
      "source": [
        "Part 3 Task1"
      ],
      "metadata": {
        "id": "S6xDIYx9QEcc"
      }
    },
    {
      "cell_type": "code",
      "source": [
        "def min_coins(c, amt):\n",
        "    # Initialize dp array with a large value (infinity), and set dp[0] to 0\n",
        "    dp = [float('inf')] * (amt + 1)\n",
        "    dp[0] = 0\n",
        "\n",
        "    # Update dp array for each coin\n",
        "    for coin in c:\n",
        "        for i in range(coin, amt + 1):\n",
        "            dp[i] = min(dp[i], dp[i - coin] + 1)\n",
        "\n",
        "    # Return the minimum coins needed, or -1 if it's not possible\n",
        "    return dp[amt] if dp[amt] != float('inf') else -1\n",
        "\n",
        "# Test cases\n",
        "print(\"Minimum coins for amount 11 with coins [1, 2, 5]:\", min_coins([1, 2, 5], 11))\n",
        "print(\"Minimum coins for amount 3 with coins [2]:\", min_coins([2], 3))\n"
      ],
      "metadata": {
        "colab": {
          "base_uri": "https://localhost:8080/"
        },
        "id": "50gRIeuSQG1j",
        "outputId": "a13f6528-a803-4150-8d19-bb69e114f8cb"
      },
      "execution_count": 7,
      "outputs": [
        {
          "output_type": "stream",
          "name": "stdout",
          "text": [
            "Minimum coins for amount 11 with coins [1, 2, 5]: 3\n",
            "Minimum coins for amount 3 with coins [2]: -1\n"
          ]
        }
      ]
    },
    {
      "cell_type": "markdown",
      "source": [
        "Part 3 Task2"
      ],
      "metadata": {
        "id": "XH9Ow68ZQR4e"
      }
    },
    {
      "cell_type": "code",
      "source": [
        "def longest_common_subsequence(s1, s2):\n",
        "\n",
        "    m, n = len(s1), len(s2)\n",
        "    dp = [[0] * (n + 1) for _ in range(m + 1)]\n",
        "\n",
        "    for i in range(1, m + 1):\n",
        "        for j in range(1, n + 1):\n",
        "            if s1[i - 1] == s2[j - 1]:\n",
        "                dp[i][j] = dp[i - 1][j - 1] + 1\n",
        "            else:\n",
        "                dp[i][j] = max(dp[i - 1][j], dp[i][j - 1])\n",
        "\n",
        "    return dp[m][n]\n",
        "s1 = \"abcde\"\n",
        "s2 = \"ace\"\n",
        "result = longest_common_subsequence(s1, s2)\n",
        "print(\"Length of LCS:\", result)\n"
      ],
      "metadata": {
        "colab": {
          "base_uri": "https://localhost:8080/"
        },
        "id": "EJr7RtsEQUmx",
        "outputId": "8b3106e9-5b85-4004-8db9-ad1dab232db0"
      },
      "execution_count": 8,
      "outputs": [
        {
          "output_type": "stream",
          "name": "stdout",
          "text": [
            "Length of LCS: 3\n"
          ]
        }
      ]
    },
    {
      "cell_type": "markdown",
      "source": [
        "Part 3 Task3"
      ],
      "metadata": {
        "id": "96EzRsKFQton"
      }
    },
    {
      "cell_type": "code",
      "source": [
        "def knapsack(weights, values, capacity):\n",
        "    n = len(weights)\n",
        "    dp = [[0] * (capacity + 1) for _ in range(n + 1)]\n",
        "\n",
        "    for i in range(1, n + 1):\n",
        "        for w in range(1, capacity + 1):\n",
        "            if weights[i - 1] <= w:\n",
        "                dp[i][w] = max(dp[i - 1][w], dp[i - 1][w - weights[i - 1]] + values[i - 1])\n",
        "            else:\n",
        "                dp[i][w] = dp[i - 1][w]\n",
        "    return dp[n][capacity]\n",
        "\n",
        "weights = [1, 3, 4, 5]\n",
        "values = [1, 4, 5, 7]\n",
        "capacity = 7\n",
        "result = knapsack(weights, values, capacity)\n",
        "print(\"Maximum value:\", result)\n"
      ],
      "metadata": {
        "colab": {
          "base_uri": "https://localhost:8080/"
        },
        "id": "DL-WU65GQxJW",
        "outputId": "8671b109-57e7-44c1-a235-15069193e8c3"
      },
      "execution_count": 9,
      "outputs": [
        {
          "output_type": "stream",
          "name": "stdout",
          "text": [
            "Maximum value: 9\n"
          ]
        }
      ]
    }
  ]
}